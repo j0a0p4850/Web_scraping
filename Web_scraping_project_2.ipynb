{
 "cells": [
  {
   "cell_type": "code",
   "execution_count": null,
   "id": "79a092ed",
   "metadata": {},
   "outputs": [],
   "source": [
    "#Imports\n",
    "from bs4 import BeautifulSoup\n",
    "import pandas as pd \n",
    "import requests as rqs"
   ]
  },
  {
   "cell_type": "code",
   "execution_count": null,
   "id": "4d7b8fc6",
   "metadata": {},
   "outputs": [],
   "source": [
    "#Setting page info\n",
    "url = 'https://quotes.toscrape.com/page/1/'\n",
    "page = rqs.get(url)\n",
    "soup = BeautifulSoup(page.text, 'html')"
   ]
  },
  {
   "cell_type": "code",
   "execution_count": null,
   "id": "0122cbcd",
   "metadata": {},
   "outputs": [],
   "source": [
    "#Checking the format\n",
    "print(soup.prettify())"
   ]
  },
  {
   "cell_type": "code",
   "execution_count": null,
   "id": "135dbad2",
   "metadata": {},
   "outputs": [],
   "source": [
    "#Testing the find to see if everything is correct\n",
    "quotes_test = soup.find_all('span', class_ = 'text')\n",
    "author_of_quote_test = soup.find_all('small', class_ = 'author')"
   ]
  },
  {
   "cell_type": "code",
   "execution_count": null,
   "id": "7c2a3d3c",
   "metadata": {},
   "outputs": [],
   "source": [
    "#Creating empty arrays to put the wanted infos\n",
    "quotes = []\n",
    "authors = []\n",
    "\n",
    "#Lopping to each page to get every quote and author\n",
    "for page in range(1, 11):\n",
    "    page = rqs.get(f'https://quotes.toscrape.com/page/{page}/')\n",
    "    soup = BeautifulSoup(page.text, 'html')\n",
    "    \n",
    "    #Finding the wanted info\n",
    "    quotes_find = soup.find_all('span', class_ = 'text')\n",
    "    author_find = soup.find_all('small', class_ = 'author')\n",
    "    \n",
    "    #Lopping Through the variables that have the infos\n",
    "    for quote, author in zip(quotes_find, author_find):\n",
    "        \n",
    "        #Putting the infos on the arrays\n",
    "        quotes.append(quote.text.strip())\n",
    "        authors.append(author.text.strip())"
   ]
  },
  {
   "cell_type": "code",
   "execution_count": null,
   "id": "d112a055",
   "metadata": {},
   "outputs": [],
   "source": [
    "#Creating a DataFrame with all the infos. Authors of each quote.\n",
    "df = pd.DataFrame({\n",
    "    \"Quote\": quotes,\n",
    "    \"Author\": authors,\n",
    "})"
   ]
  },
  {
   "cell_type": "code",
   "execution_count": null,
   "id": "7114138b",
   "metadata": {},
   "outputs": [],
   "source": [
    "#Testing to find all the tags, but with them repeted\n",
    "all_tags_repeat = soup.find_all('a', class_ = 'tag')\n",
    "all_tags_repeat = [tags.text.strip() for tags in all_tags_repeat]\n",
    "\n",
    "#Setting so we dont have any repetitions\n",
    "existing_tags = set(all_tags_repeat)\n",
    "existing_tags"
   ]
  },
  {
   "cell_type": "code",
   "execution_count": null,
   "id": "191a61ab",
   "metadata": {},
   "outputs": [],
   "source": [
    "#Creating a DataFrame for all the tags\n",
    "df_tags = pd.DataFrame(sorted(existing_tags), columns=['TAGS'])"
   ]
  },
  {
   "cell_type": "code",
   "execution_count": null,
   "id": "58049e1f",
   "metadata": {},
   "outputs": [],
   "source": [
    "author_of_quote_that_exist = set(authors)\n",
    "df_author_list = pd.DataFrame(sorted(author_of_quote_that_exist), columns=['AUTORES'])"
   ]
  },
  {
   "cell_type": "code",
   "execution_count": null,
   "id": "56ea7e47",
   "metadata": {},
   "outputs": [],
   "source": [
    "#Setting the authors to be the indexes.\n",
    "df.set_index('Author', inplace = True)\n",
    "\n",
    "#Showing the dataframe of authors and quotes.\n",
    "df"
   ]
  },
  {
   "cell_type": "code",
   "execution_count": null,
   "id": "e45972b1",
   "metadata": {},
   "outputs": [],
   "source": [
    "#Showing the dataframe of tags without repetition.\n",
    "df_tags"
   ]
  },
  {
   "cell_type": "code",
   "execution_count": null,
   "id": "b91d0e77",
   "metadata": {},
   "outputs": [],
   "source": [
    "#Showing the dataframe of only authors without repetition.\n",
    "df_author_list"
   ]
  }
 ],
 "metadata": {
  "kernelspec": {
   "display_name": "Python 3 (ipykernel)",
   "language": "python",
   "name": "python3"
  },
  "language_info": {
   "codemirror_mode": {
    "name": "ipython",
    "version": 3
   },
   "file_extension": ".py",
   "mimetype": "text/x-python",
   "name": "python",
   "nbconvert_exporter": "python",
   "pygments_lexer": "ipython3",
   "version": "3.11.5"
  }
 },
 "nbformat": 4,
 "nbformat_minor": 5
}
